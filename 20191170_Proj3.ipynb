{
 "cells": [
  {
   "cell_type": "code",
   "execution_count": null,
   "id": "6426403e",
   "metadata": {
    "scrolled": false
   },
   "outputs": [],
   "source": [
    "import pandas as pd\n",
    "import numpy as np\n",
    "from scipy.io.wavfile import write\n",
    "from scipy.signal import chirp\n",
    "import matplotlib.pyplot as plt\n",
    "import re\n",
    "from pydub import AudioSegment"
   ]
  },
  {
   "cell_type": "code",
   "execution_count": null,
   "id": "db6bf6ea",
   "metadata": {},
   "outputs": [],
   "source": [
    "def parse_log_file(file_path):\n",
    "    parsed_data = []\n",
    "    with open(file_path, 'r') as f:\n",
    "        for line_num, line in enumerate(f, start=1):\n",
    "            parts = line.strip().split(',')\n",
    "            if len(parts) < 7:\n",
    "                continue\n",
    "            try:\n",
    "                timestamp = parts[0].split()[1] if len(parts[0].split()) > 1 else None\n",
    "                event_type = parts[1]\n",
    "                source = parts[2] if len(parts) > 2 else None\n",
    "                target = parts[6] if len(parts) > 6 else None\n",
    "                spell_id = parts[10] if len(parts) > 10 else None\n",
    "                spell_name = parts[11] if len(parts) > 11 else None\n",
    "                parsed_data.append([timestamp, event_type, source, target, spell_id, spell_name])\n",
    "            except Exception as e:\n",
    "                continue\n",
    "    \n",
    "    columns = ['Timestamp', 'EventType', 'Source', 'Target', 'SpellID', 'SpellName']\n",
    "    df = pd.DataFrame(parsed_data, columns=columns)\n",
    "    \n",
    "    df['Seconds'] = pd.to_datetime(df['Timestamp'], format='%H:%M:%S.%f', errors='coerce')\n",
    "    df = df.dropna(subset=['Seconds'])\n",
    "    df['Seconds'] = (df['Seconds'] - df['Seconds'].iloc[0]).dt.total_seconds()\n",
    "    return df"
   ]
  },
  {
   "cell_type": "code",
   "execution_count": null,
   "id": "c58f29ac",
   "metadata": {},
   "outputs": [],
   "source": [
    "def generate_frequency_mapping(event_types):\n",
    "    base_frequency = 220\n",
    "    frequency_mapping = {}\n",
    "    for i, event in enumerate(event_types):\n",
    "        frequency_mapping[event] = base_frequency * (2 ** (i / 12))\n",
    "    return frequency_mapping\n",
    "\n",
    "def generate_sine_wave(freq, duration, sample_rate=44100):\n",
    "    t = np.linspace(0, duration, int(sample_rate * duration), endpoint=False)\n",
    "    wave = np.sin(2 * np.pi * freq * t)\n",
    "    return wave\n",
    "\n",
    "def compress_events(df, total_duration=60):\n",
    "    unique_seconds = df['Seconds'].max() - df['Seconds'].min()\n",
    "    compression_ratio = unique_seconds / total_duration\n",
    "    df['CompressedTime'] = df['Seconds'] / compression_ratio\n",
    "    return df"
   ]
  },
  {
   "cell_type": "code",
   "execution_count": null,
   "id": "ca74eedc",
   "metadata": {},
   "outputs": [],
   "source": [
    "def calculate_dynamic_duration(row, min_duration=0.5, max_duration=1.5):\n",
    "    try:\n",
    "        base_value = int(row['SpellID']) % 10 if row['SpellID'] and row['SpellID'].isdigit() else 5\n",
    "    except ValueError:\n",
    "        base_value = 5\n",
    "    duration = min_duration + (base_value / 10) * (max_duration - min_duration)\n",
    "    return duration"
   ]
  },
  {
   "cell_type": "code",
   "execution_count": null,
   "id": "ce049114",
   "metadata": {},
   "outputs": [],
   "source": [
    "def main(log_file_path):\n",
    "    df = parse_log_file(log_file_path)\n",
    "    df = compress_events(df)\n",
    "    \n",
    "    unique_events = df['EventType'].unique()\n",
    "    frequency_mapping = generate_frequency_mapping(unique_events)\n",
    "    \n",
    "    sample_rate = 44100\n",
    "    total_duration = 60\n",
    "    audio_length = sample_rate * total_duration\n",
    "    audio = np.zeros(audio_length)\n",
    "\n",
    "    for _, row in df.iterrows():\n",
    "        freq = frequency_mapping.get(row['EventType'], 440)\n",
    "        duration = calculate_dynamic_duration(row)\n",
    "        wave = generate_sine_wave(freq, duration, sample_rate)\n",
    "\n",
    "        if len(wave) == 0:\n",
    "            continue\n",
    "\n",
    "        start_sample = int(row['CompressedTime'] * sample_rate)\n",
    "        end_sample = start_sample + len(wave)\n",
    "\n",
    "        if start_sample < 0 or end_sample <= start_sample:\n",
    "            continue\n",
    "        if end_sample > len(audio):\n",
    "            wave = wave[:len(audio) - start_sample]\n",
    "\n",
    "        try:\n",
    "            audio[start_sample:start_sample + len(wave)] += wave\n",
    "        except ValueError as e:\n",
    "            print(f\"Invalid Range: st={start_sample}, end={end_sample}, wav={len(wave)}\")\n",
    "            continue\n",
    "    \n",
    "    if np.max(np.abs(audio)) > 0:\n",
    "        audio = audio / np.max(np.abs(audio))\n",
    "    else:\n",
    "        print(\"Warning: Audio data is empty after processing.\")\n",
    "        return\n",
    "\n",
    "    \n",
    "    audio = (audio * 32767).astype(np.int16)\n",
    "    wav_output_file = \"result_audio.wav\"\n",
    "    write(wav_output_file, sample_rate, audio)\n",
    "\n",
    "    mp3_output_file = \"result_audio.mp3\"\n",
    "    sound = AudioSegment.from_wav(wav_output_file)\n",
    "    sound.export(mp3_output_file, format=\"mp3\")"
   ]
  },
  {
   "cell_type": "code",
   "execution_count": null,
   "id": "84705b6d",
   "metadata": {},
   "outputs": [],
   "source": [
    "main(\"WowCombatLog.txt\")"
   ]
  }
 ],
 "metadata": {
  "kernelspec": {
   "display_name": "Python 3 (ipykernel)",
   "language": "python",
   "name": "python3"
  },
  "language_info": {
   "codemirror_mode": {
    "name": "ipython",
    "version": 3
   },
   "file_extension": ".py",
   "mimetype": "text/x-python",
   "name": "python",
   "nbconvert_exporter": "python",
   "pygments_lexer": "ipython3",
   "version": "3.9.13"
  }
 },
 "nbformat": 4,
 "nbformat_minor": 5
}
